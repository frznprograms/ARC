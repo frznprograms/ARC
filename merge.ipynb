{
 "cells": [
  {
   "cell_type": "code",
   "execution_count": null,
   "id": "8f382857",
   "metadata": {},
   "outputs": [],
   "source": [
    "from datasets import Dataset\n",
    "import pandas as pd\n"
   ]
  },
  {
   "cell_type": "code",
   "execution_count": null,
   "id": "94ee129b",
   "metadata": {},
   "outputs": [],
   "source": [
    "synthetic_df = pd.read_csv(\"synthetic_review_dataset_final_cleaned.csv\")\n",
    "real_df = pd.read_csv(\"real_review_dataset_final_cleaned.csv\")"
   ]
  },
  {
   "cell_type": "code",
   "execution_count": null,
   "id": "5fa779dd",
   "metadata": {},
   "outputs": [],
   "source": [
    "hf_ds = pd.read_csv(\"final_huggingface_ds.csv\")"
   ]
  },
  {
   "cell_type": "code",
   "execution_count": null,
   "id": "f86e1a5b",
   "metadata": {},
   "outputs": [],
   "source": [
    "import pandas as pd\n",
    "\n",
    "# shuffle rows\n",
    "shuffled_hf_df = hf_ds.sample(frac=1, random_state=42).reset_index(drop=True)\n"
   ]
  },
  {
   "cell_type": "code",
   "execution_count": null,
   "id": "030a426f",
   "metadata": {},
   "outputs": [],
   "source": [
    "shuffled_hf_df.to_csv(\"final_hf_ds.csv\", index=False, encoding=\"utf-8\")"
   ]
  },
  {
   "cell_type": "code",
   "execution_count": null,
   "id": "7552ea5e",
   "metadata": {},
   "outputs": [],
   "source": [
    "from huggingface_hub import login\n",
    "login()"
   ]
  },
  {
   "cell_type": "code",
   "execution_count": null,
   "id": "bd4810a9",
   "metadata": {},
   "outputs": [],
   "source": [
    "from huggingface_hub import HfApi\n",
    "from dotenv import load_dotenv\n",
    "import os\n",
    "load_dotenv(override=True) \n",
    "\n"
   ]
  },
  {
   "cell_type": "code",
   "execution_count": null,
   "id": "9490484c",
   "metadata": {},
   "outputs": [],
   "source": [
    "from datasets import Dataset\n",
    "\n",
    "import pandas as pd\n",
    "\n",
    "hf_dataset = Dataset.from_pandas(shuffled_hf_df)\n",
    "hf_dataset.push_to_hub(\"MisterMekdonelds/tech_jam\")\n"
   ]
  },
  {
   "cell_type": "code",
   "execution_count": null,
   "id": "9060b69e",
   "metadata": {},
   "outputs": [],
   "source": []
  }
 ],
 "metadata": {
  "kernelspec": {
   "display_name": "venv",
   "language": "python",
   "name": "python3"
  },
  "language_info": {
   "codemirror_mode": {
    "name": "ipython",
    "version": 3
   },
   "file_extension": ".py",
   "mimetype": "text/x-python",
   "name": "python",
   "nbconvert_exporter": "python",
   "pygments_lexer": "ipython3",
   "version": "3.12.10"
  }
 },
 "nbformat": 4,
 "nbformat_minor": 5
}
