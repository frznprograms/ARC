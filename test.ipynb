{
 "cells": [
  {
   "cell_type": "code",
   "execution_count": 2,
   "id": "7d3d7cce",
   "metadata": {},
   "outputs": [],
   "source": [
    "import pandas as pd \n",
    "import json"
   ]
  },
  {
   "cell_type": "code",
   "execution_count": 2,
   "id": "bdc5eb9f",
   "metadata": {},
   "outputs": [
    {
     "name": "stdout",
     "output_type": "stream",
     "text": [
      "Total valid entries: 1051246\n"
     ]
    }
   ],
   "source": [
    "import json\n",
    "import ast\n",
    "\n",
    "dict_list = []\n",
    "\n",
    "with open(\"data/review-Alaska.json\", \"r\", encoding=\"utf-8\") as f:\n",
    "    for line_num, line in enumerate(f, start=1):\n",
    "        line = line.strip()  # remove leading/trailing whitespace\n",
    "        if not line:\n",
    "            continue  # skip empty lines\n",
    "        try:\n",
    "            # Try JSON parsing first (double quotes)\n",
    "            obj = json.loads(line)\n",
    "        except json.JSONDecodeError:\n",
    "            try:\n",
    "                # Fallback for Python dict strings (single quotes)\n",
    "                obj = ast.literal_eval(line)\n",
    "            except Exception:\n",
    "                print(f\"Skipping invalid line {line_num}: {line[:100]}...\")\n",
    "                continue\n",
    "        dict_list.append(obj)\n",
    "\n",
    "print(f\"Total valid entries: {len(dict_list)}\")\n",
    "\n",
    "\n",
    "\n",
    "    "
   ]
  },
  {
   "cell_type": "code",
   "execution_count": 4,
   "id": "991a2e8f",
   "metadata": {},
   "outputs": [],
   "source": [
    "df_reviews = pd.DataFrame(dict_list)"
   ]
  },
  {
   "cell_type": "code",
   "execution_count": 5,
   "id": "4f677cbb",
   "metadata": {},
   "outputs": [],
   "source": [
    "df_reviews = df_reviews.dropna(subset=['text']).reset_index(drop=True)\n"
   ]
  },
  {
   "cell_type": "code",
   "execution_count": 7,
   "id": "03da6532",
   "metadata": {},
   "outputs": [
    {
     "name": "stdout",
     "output_type": "stream",
     "text": [
      "Total valid entries: 12774\n"
     ]
    }
   ],
   "source": [
    "import json\n",
    "import ast\n",
    "\n",
    "dict_list = []\n",
    "\n",
    "with open(\"data/meta-Alaska.json\", \"r\", encoding=\"utf-8\") as f:\n",
    "    for line_num, line in enumerate(f, start=1):\n",
    "        line = line.strip()  # remove leading/trailing whitespace\n",
    "        if not line:\n",
    "            continue  # skip empty lines\n",
    "        try:\n",
    "            # Try JSON parsing first (double quotes)\n",
    "            obj = json.loads(line)\n",
    "        except json.JSONDecodeError:\n",
    "            try:\n",
    "                # Fallback for Python dict strings (single quotes)\n",
    "                obj = ast.literal_eval(line)\n",
    "            except Exception:\n",
    "                print(f\"Skipping invalid line {line_num}: {line[:100]}...\")\n",
    "                continue\n",
    "        dict_list.append(obj)\n",
    "\n",
    "print(f\"Total valid entries: {len(dict_list)}\")"
   ]
  },
  {
   "cell_type": "code",
   "execution_count": 8,
   "id": "49c1c9f1",
   "metadata": {},
   "outputs": [],
   "source": [
    "df_meta = pd.DataFrame(dict_list)"
   ]
  },
  {
   "cell_type": "code",
   "execution_count": 9,
   "id": "bcb2bef2",
   "metadata": {},
   "outputs": [],
   "source": [
    "merged_df = pd.merge(df_reviews, df_meta, on='gmap_id', how='inner')"
   ]
  },
  {
   "cell_type": "code",
   "execution_count": 10,
   "id": "db359080",
   "metadata": {},
   "outputs": [],
   "source": [
    "merged_df = merged_df.drop_duplicates(subset=['name_x','text','gmap_id'])"
   ]
  },
  {
   "cell_type": "code",
   "execution_count": 11,
   "id": "defbd73f",
   "metadata": {},
   "outputs": [
    {
     "data": {
      "text/plain": [
       "Index(['user_id', 'name_x', 'time', 'rating', 'text', 'pics', 'resp',\n",
       "       'gmap_id', 'name_y', 'address', 'description', 'latitude', 'longitude',\n",
       "       'category', 'avg_rating', 'num_of_reviews', 'price', 'hours', 'MISC',\n",
       "       'state', 'relative_results', 'url'],\n",
       "      dtype='object')"
      ]
     },
     "execution_count": 11,
     "metadata": {},
     "output_type": "execute_result"
    }
   ],
   "source": [
    "merged_df.columns"
   ]
  },
  {
   "cell_type": "code",
   "execution_count": 12,
   "id": "0289e5bf",
   "metadata": {},
   "outputs": [],
   "source": [
    "final_columns = ['text','resp','description','category','name_y']\n",
    "final_df = merged_df[final_columns]"
   ]
  },
  {
   "cell_type": "code",
   "execution_count": 13,
   "id": "c7d7d248",
   "metadata": {},
   "outputs": [
    {
     "name": "stderr",
     "output_type": "stream",
     "text": [
      "C:\\Users\\chunw\\AppData\\Local\\Temp\\ipykernel_17236\\803837385.py:2: SettingWithCopyWarning: \n",
      "A value is trying to be set on a copy of a slice from a DataFrame.\n",
      "Try using .loc[row_indexer,col_indexer] = value instead\n",
      "\n",
      "See the caveats in the documentation: https://pandas.pydata.org/pandas-docs/stable/user_guide/indexing.html#returning-a-view-versus-a-copy\n",
      "  final_df[col] = final_df[col].apply(\n"
     ]
    }
   ],
   "source": [
    "for col in final_df.columns:\n",
    "    final_df[col] = final_df[col].apply(\n",
    "        lambda x: \", \".join(x) if isinstance(x, list) else x\n",
    "    )\n"
   ]
  },
  {
   "cell_type": "code",
   "execution_count": 14,
   "id": "28128217",
   "metadata": {},
   "outputs": [
    {
     "name": "stdout",
     "output_type": "stream",
     "text": [
      "Number of nulls in 'description': 356678\n"
     ]
    }
   ],
   "source": [
    "num_nulls = final_df['description'].isna().sum()\n",
    "print(\"Number of nulls in 'description':\", num_nulls)"
   ]
  },
  {
   "cell_type": "code",
   "execution_count": 20,
   "id": "d1e5132e",
   "metadata": {},
   "outputs": [],
   "source": [
    "# Reset index so you get a new incrementing column\n",
    "final_df = final_df.reset_index(drop=True)\n",
    "\n",
    "# Rename that index column\n",
    "final_df.index.name = \"id\""
   ]
  },
  {
   "cell_type": "code",
   "execution_count": 23,
   "id": "2daaf5c3",
   "metadata": {},
   "outputs": [],
   "source": [
    "final_df = final_df.rename(columns={\n",
    "    \"name_y\": \"BusinessName\"\n",
    "})\n"
   ]
  },
  {
   "cell_type": "code",
   "execution_count": 24,
   "id": "bb9c3d1a",
   "metadata": {},
   "outputs": [
    {
     "data": {
      "text/html": [
       "<div>\n",
       "<style scoped>\n",
       "    .dataframe tbody tr th:only-of-type {\n",
       "        vertical-align: middle;\n",
       "    }\n",
       "\n",
       "    .dataframe tbody tr th {\n",
       "        vertical-align: top;\n",
       "    }\n",
       "\n",
       "    .dataframe thead th {\n",
       "        text-align: right;\n",
       "    }\n",
       "</style>\n",
       "<table border=\"1\" class=\"dataframe\">\n",
       "  <thead>\n",
       "    <tr style=\"text-align: right;\">\n",
       "      <th></th>\n",
       "      <th>text</th>\n",
       "      <th>resp</th>\n",
       "      <th>description</th>\n",
       "      <th>category</th>\n",
       "      <th>BusinessName</th>\n",
       "    </tr>\n",
       "    <tr>\n",
       "      <th>id</th>\n",
       "      <th></th>\n",
       "      <th></th>\n",
       "      <th></th>\n",
       "      <th></th>\n",
       "      <th></th>\n",
       "    </tr>\n",
       "  </thead>\n",
       "  <tbody>\n",
       "    <tr>\n",
       "      <th>0</th>\n",
       "      <td>We always stay here when in Valdez for silver ...</td>\n",
       "      <td>None</td>\n",
       "      <td>None</td>\n",
       "      <td>RV park, Cabin rental agency, Campground</td>\n",
       "      <td>Bear Creek Cabins &amp; RV Park</td>\n",
       "    </tr>\n",
       "    <tr>\n",
       "      <th>1</th>\n",
       "      <td>This was an amazing RV camping experience with...</td>\n",
       "      <td>None</td>\n",
       "      <td>None</td>\n",
       "      <td>RV park, Cabin rental agency, Campground</td>\n",
       "      <td>Bear Creek Cabins &amp; RV Park</td>\n",
       "    </tr>\n",
       "    <tr>\n",
       "      <th>2</th>\n",
       "      <td>Spent the summer of 2011. Had a wonderful time...</td>\n",
       "      <td>None</td>\n",
       "      <td>None</td>\n",
       "      <td>RV park, Cabin rental agency, Campground</td>\n",
       "      <td>Bear Creek Cabins &amp; RV Park</td>\n",
       "    </tr>\n",
       "    <tr>\n",
       "      <th>3</th>\n",
       "      <td>My Wife and I have stayed at Bear Creek severa...</td>\n",
       "      <td>None</td>\n",
       "      <td>None</td>\n",
       "      <td>RV park, Cabin rental agency, Campground</td>\n",
       "      <td>Bear Creek Cabins &amp; RV Park</td>\n",
       "    </tr>\n",
       "    <tr>\n",
       "      <th>4</th>\n",
       "      <td>Great campground for the price. Nice hot unlim...</td>\n",
       "      <td>None</td>\n",
       "      <td>None</td>\n",
       "      <td>RV park, Cabin rental agency, Campground</td>\n",
       "      <td>Bear Creek Cabins &amp; RV Park</td>\n",
       "    </tr>\n",
       "    <tr>\n",
       "      <th>...</th>\n",
       "      <td>...</td>\n",
       "      <td>...</td>\n",
       "      <td>...</td>\n",
       "      <td>...</td>\n",
       "      <td>...</td>\n",
       "    </tr>\n",
       "    <tr>\n",
       "      <th>629195</th>\n",
       "      <td>(Translated by Google) Very popular route for ...</td>\n",
       "      <td>None</td>\n",
       "      <td>None</td>\n",
       "      <td>Shopping mall</td>\n",
       "      <td>Ketchikan Plaza</td>\n",
       "    </tr>\n",
       "    <tr>\n",
       "      <th>629196</th>\n",
       "      <td>(Translated by Google) small picturesque A.eri...</td>\n",
       "      <td>None</td>\n",
       "      <td>None</td>\n",
       "      <td>Shopping mall</td>\n",
       "      <td>Ketchikan Plaza</td>\n",
       "    </tr>\n",
       "    <tr>\n",
       "      <th>629197</th>\n",
       "      <td>(Translated by Google) Umerenno, ne ahti\\n\\n(O...</td>\n",
       "      <td>None</td>\n",
       "      <td>None</td>\n",
       "      <td>Shopping mall</td>\n",
       "      <td>Ketchikan Plaza</td>\n",
       "    </tr>\n",
       "    <tr>\n",
       "      <th>629198</th>\n",
       "      <td>(Translated by Google) thanks\\n\\n(Original)\\nDank</td>\n",
       "      <td>None</td>\n",
       "      <td>None</td>\n",
       "      <td>Shopping mall</td>\n",
       "      <td>Ketchikan Plaza</td>\n",
       "    </tr>\n",
       "    <tr>\n",
       "      <th>629199</th>\n",
       "      <td>(Translated by Google) There is nothing! Very ...</td>\n",
       "      <td>None</td>\n",
       "      <td>None</td>\n",
       "      <td>Shopping mall</td>\n",
       "      <td>Ketchikan Plaza</td>\n",
       "    </tr>\n",
       "  </tbody>\n",
       "</table>\n",
       "<p>629200 rows × 5 columns</p>\n",
       "</div>"
      ],
      "text/plain": [
       "                                                     text  resp description  \\\n",
       "id                                                                            \n",
       "0       We always stay here when in Valdez for silver ...  None        None   \n",
       "1       This was an amazing RV camping experience with...  None        None   \n",
       "2       Spent the summer of 2011. Had a wonderful time...  None        None   \n",
       "3       My Wife and I have stayed at Bear Creek severa...  None        None   \n",
       "4       Great campground for the price. Nice hot unlim...  None        None   \n",
       "...                                                   ...   ...         ...   \n",
       "629195  (Translated by Google) Very popular route for ...  None        None   \n",
       "629196  (Translated by Google) small picturesque A.eri...  None        None   \n",
       "629197  (Translated by Google) Umerenno, ne ahti\\n\\n(O...  None        None   \n",
       "629198  (Translated by Google) thanks\\n\\n(Original)\\nDank  None        None   \n",
       "629199  (Translated by Google) There is nothing! Very ...  None        None   \n",
       "\n",
       "                                        category                 BusinessName  \n",
       "id                                                                             \n",
       "0       RV park, Cabin rental agency, Campground  Bear Creek Cabins & RV Park  \n",
       "1       RV park, Cabin rental agency, Campground  Bear Creek Cabins & RV Park  \n",
       "2       RV park, Cabin rental agency, Campground  Bear Creek Cabins & RV Park  \n",
       "3       RV park, Cabin rental agency, Campground  Bear Creek Cabins & RV Park  \n",
       "4       RV park, Cabin rental agency, Campground  Bear Creek Cabins & RV Park  \n",
       "...                                          ...                          ...  \n",
       "629195                             Shopping mall              Ketchikan Plaza  \n",
       "629196                             Shopping mall              Ketchikan Plaza  \n",
       "629197                             Shopping mall              Ketchikan Plaza  \n",
       "629198                             Shopping mall              Ketchikan Plaza  \n",
       "629199                             Shopping mall              Ketchikan Plaza  \n",
       "\n",
       "[629200 rows x 5 columns]"
      ]
     },
     "execution_count": 24,
     "metadata": {},
     "output_type": "execute_result"
    }
   ],
   "source": [
    "final_df"
   ]
  },
  {
   "cell_type": "code",
   "execution_count": 26,
   "id": "b3c651ad",
   "metadata": {},
   "outputs": [],
   "source": [
    "final_df[\"user_message\"] = (\n",
    "    \"Business Name: \" + final_df[\"BusinessName\"].astype(str).fillna(\"N/A\") + \"\\n\"\n",
    "    \"Category: \" + final_df[\"category\"].astype(str).fillna(\"N/A\") + \"\\n\"\n",
    "    \"Description: \" + final_df[\"description\"].astype(str).fillna(\"N/A\") + \"\\n\"\n",
    "    \"Review: \" + final_df[\"text\"].astype(str).fillna(\"N/A\") + \"\\n\"\n",
    "    \"Response: \" + final_df[\"resp\"].astype(str).fillna(\"N/A\")\n",
    ")\n",
    "\n"
   ]
  },
  {
   "cell_type": "code",
   "execution_count": 27,
   "id": "bcf564cb",
   "metadata": {},
   "outputs": [
    {
     "data": {
      "text/html": [
       "<div>\n",
       "<style scoped>\n",
       "    .dataframe tbody tr th:only-of-type {\n",
       "        vertical-align: middle;\n",
       "    }\n",
       "\n",
       "    .dataframe tbody tr th {\n",
       "        vertical-align: top;\n",
       "    }\n",
       "\n",
       "    .dataframe thead th {\n",
       "        text-align: right;\n",
       "    }\n",
       "</style>\n",
       "<table border=\"1\" class=\"dataframe\">\n",
       "  <thead>\n",
       "    <tr style=\"text-align: right;\">\n",
       "      <th></th>\n",
       "      <th>text</th>\n",
       "      <th>resp</th>\n",
       "      <th>description</th>\n",
       "      <th>category</th>\n",
       "      <th>BusinessName</th>\n",
       "      <th>user_message</th>\n",
       "    </tr>\n",
       "    <tr>\n",
       "      <th>id</th>\n",
       "      <th></th>\n",
       "      <th></th>\n",
       "      <th></th>\n",
       "      <th></th>\n",
       "      <th></th>\n",
       "      <th></th>\n",
       "    </tr>\n",
       "  </thead>\n",
       "  <tbody>\n",
       "    <tr>\n",
       "      <th>0</th>\n",
       "      <td>We always stay here when in Valdez for silver ...</td>\n",
       "      <td>None</td>\n",
       "      <td>None</td>\n",
       "      <td>RV park, Cabin rental agency, Campground</td>\n",
       "      <td>Bear Creek Cabins &amp; RV Park</td>\n",
       "      <td>Business Name: Bear Creek Cabins &amp; RV Park\\nCa...</td>\n",
       "    </tr>\n",
       "    <tr>\n",
       "      <th>1</th>\n",
       "      <td>This was an amazing RV camping experience with...</td>\n",
       "      <td>None</td>\n",
       "      <td>None</td>\n",
       "      <td>RV park, Cabin rental agency, Campground</td>\n",
       "      <td>Bear Creek Cabins &amp; RV Park</td>\n",
       "      <td>Business Name: Bear Creek Cabins &amp; RV Park\\nCa...</td>\n",
       "    </tr>\n",
       "    <tr>\n",
       "      <th>2</th>\n",
       "      <td>Spent the summer of 2011. Had a wonderful time...</td>\n",
       "      <td>None</td>\n",
       "      <td>None</td>\n",
       "      <td>RV park, Cabin rental agency, Campground</td>\n",
       "      <td>Bear Creek Cabins &amp; RV Park</td>\n",
       "      <td>Business Name: Bear Creek Cabins &amp; RV Park\\nCa...</td>\n",
       "    </tr>\n",
       "    <tr>\n",
       "      <th>3</th>\n",
       "      <td>My Wife and I have stayed at Bear Creek severa...</td>\n",
       "      <td>None</td>\n",
       "      <td>None</td>\n",
       "      <td>RV park, Cabin rental agency, Campground</td>\n",
       "      <td>Bear Creek Cabins &amp; RV Park</td>\n",
       "      <td>Business Name: Bear Creek Cabins &amp; RV Park\\nCa...</td>\n",
       "    </tr>\n",
       "    <tr>\n",
       "      <th>4</th>\n",
       "      <td>Great campground for the price. Nice hot unlim...</td>\n",
       "      <td>None</td>\n",
       "      <td>None</td>\n",
       "      <td>RV park, Cabin rental agency, Campground</td>\n",
       "      <td>Bear Creek Cabins &amp; RV Park</td>\n",
       "      <td>Business Name: Bear Creek Cabins &amp; RV Park\\nCa...</td>\n",
       "    </tr>\n",
       "    <tr>\n",
       "      <th>...</th>\n",
       "      <td>...</td>\n",
       "      <td>...</td>\n",
       "      <td>...</td>\n",
       "      <td>...</td>\n",
       "      <td>...</td>\n",
       "      <td>...</td>\n",
       "    </tr>\n",
       "    <tr>\n",
       "      <th>629195</th>\n",
       "      <td>(Translated by Google) Very popular route for ...</td>\n",
       "      <td>None</td>\n",
       "      <td>None</td>\n",
       "      <td>Shopping mall</td>\n",
       "      <td>Ketchikan Plaza</td>\n",
       "      <td>Business Name: Ketchikan Plaza\\nCategory: Shop...</td>\n",
       "    </tr>\n",
       "    <tr>\n",
       "      <th>629196</th>\n",
       "      <td>(Translated by Google) small picturesque A.eri...</td>\n",
       "      <td>None</td>\n",
       "      <td>None</td>\n",
       "      <td>Shopping mall</td>\n",
       "      <td>Ketchikan Plaza</td>\n",
       "      <td>Business Name: Ketchikan Plaza\\nCategory: Shop...</td>\n",
       "    </tr>\n",
       "    <tr>\n",
       "      <th>629197</th>\n",
       "      <td>(Translated by Google) Umerenno, ne ahti\\n\\n(O...</td>\n",
       "      <td>None</td>\n",
       "      <td>None</td>\n",
       "      <td>Shopping mall</td>\n",
       "      <td>Ketchikan Plaza</td>\n",
       "      <td>Business Name: Ketchikan Plaza\\nCategory: Shop...</td>\n",
       "    </tr>\n",
       "    <tr>\n",
       "      <th>629198</th>\n",
       "      <td>(Translated by Google) thanks\\n\\n(Original)\\nDank</td>\n",
       "      <td>None</td>\n",
       "      <td>None</td>\n",
       "      <td>Shopping mall</td>\n",
       "      <td>Ketchikan Plaza</td>\n",
       "      <td>Business Name: Ketchikan Plaza\\nCategory: Shop...</td>\n",
       "    </tr>\n",
       "    <tr>\n",
       "      <th>629199</th>\n",
       "      <td>(Translated by Google) There is nothing! Very ...</td>\n",
       "      <td>None</td>\n",
       "      <td>None</td>\n",
       "      <td>Shopping mall</td>\n",
       "      <td>Ketchikan Plaza</td>\n",
       "      <td>Business Name: Ketchikan Plaza\\nCategory: Shop...</td>\n",
       "    </tr>\n",
       "  </tbody>\n",
       "</table>\n",
       "<p>629200 rows × 6 columns</p>\n",
       "</div>"
      ],
      "text/plain": [
       "                                                     text  resp description  \\\n",
       "id                                                                            \n",
       "0       We always stay here when in Valdez for silver ...  None        None   \n",
       "1       This was an amazing RV camping experience with...  None        None   \n",
       "2       Spent the summer of 2011. Had a wonderful time...  None        None   \n",
       "3       My Wife and I have stayed at Bear Creek severa...  None        None   \n",
       "4       Great campground for the price. Nice hot unlim...  None        None   \n",
       "...                                                   ...   ...         ...   \n",
       "629195  (Translated by Google) Very popular route for ...  None        None   \n",
       "629196  (Translated by Google) small picturesque A.eri...  None        None   \n",
       "629197  (Translated by Google) Umerenno, ne ahti\\n\\n(O...  None        None   \n",
       "629198  (Translated by Google) thanks\\n\\n(Original)\\nDank  None        None   \n",
       "629199  (Translated by Google) There is nothing! Very ...  None        None   \n",
       "\n",
       "                                        category                 BusinessName  \\\n",
       "id                                                                              \n",
       "0       RV park, Cabin rental agency, Campground  Bear Creek Cabins & RV Park   \n",
       "1       RV park, Cabin rental agency, Campground  Bear Creek Cabins & RV Park   \n",
       "2       RV park, Cabin rental agency, Campground  Bear Creek Cabins & RV Park   \n",
       "3       RV park, Cabin rental agency, Campground  Bear Creek Cabins & RV Park   \n",
       "4       RV park, Cabin rental agency, Campground  Bear Creek Cabins & RV Park   \n",
       "...                                          ...                          ...   \n",
       "629195                             Shopping mall              Ketchikan Plaza   \n",
       "629196                             Shopping mall              Ketchikan Plaza   \n",
       "629197                             Shopping mall              Ketchikan Plaza   \n",
       "629198                             Shopping mall              Ketchikan Plaza   \n",
       "629199                             Shopping mall              Ketchikan Plaza   \n",
       "\n",
       "                                             user_message  \n",
       "id                                                         \n",
       "0       Business Name: Bear Creek Cabins & RV Park\\nCa...  \n",
       "1       Business Name: Bear Creek Cabins & RV Park\\nCa...  \n",
       "2       Business Name: Bear Creek Cabins & RV Park\\nCa...  \n",
       "3       Business Name: Bear Creek Cabins & RV Park\\nCa...  \n",
       "4       Business Name: Bear Creek Cabins & RV Park\\nCa...  \n",
       "...                                                   ...  \n",
       "629195  Business Name: Ketchikan Plaza\\nCategory: Shop...  \n",
       "629196  Business Name: Ketchikan Plaza\\nCategory: Shop...  \n",
       "629197  Business Name: Ketchikan Plaza\\nCategory: Shop...  \n",
       "629198  Business Name: Ketchikan Plaza\\nCategory: Shop...  \n",
       "629199  Business Name: Ketchikan Plaza\\nCategory: Shop...  \n",
       "\n",
       "[629200 rows x 6 columns]"
      ]
     },
     "execution_count": 27,
     "metadata": {},
     "output_type": "execute_result"
    }
   ],
   "source": [
    "final_df"
   ]
  },
  {
   "cell_type": "code",
   "execution_count": 28,
   "id": "54651789",
   "metadata": {},
   "outputs": [],
   "source": [
    "final_df.to_csv(\"data.csv\", index=True)  \n"
   ]
  },
  {
   "cell_type": "code",
   "execution_count": 3,
   "id": "41c343cb",
   "metadata": {},
   "outputs": [],
   "source": [
    "df = pd.read_csv(\"data.csv\")\n"
   ]
  },
  {
   "cell_type": "code",
   "execution_count": 4,
   "id": "37345d6a",
   "metadata": {},
   "outputs": [
    {
     "name": "stdout",
     "output_type": "stream",
     "text": [
      "Business Name: Bear Creek Cabins & RV Park\n",
      "Category: RV park, Cabin rental agency, Campground\n",
      "Description: None\n",
      "Review: We always stay here when in Valdez for silver salmon fishing. The elderly couple that run it are amazing to talk to, extremely helpful. The campsites are very well maintained.\n",
      "Response: None\n"
     ]
    }
   ],
   "source": [
    "print(df['user_message'][0])"
   ]
  },
  {
   "cell_type": "code",
   "execution_count": 5,
   "id": "c607d41a",
   "metadata": {},
   "outputs": [],
   "source": [
    "from openai import OpenAI\n",
    "import json\n",
    "import pandas as pd\n",
    "import os\n",
    "from dotenv import load_dotenv\n",
    "\n",
    "client = OpenAI(\n",
    "    api_key=os.environ.get(\"OPENAI_API_KEY\"),\n",
    "    base_url=\"https://generativelanguage.googleapis.com/v1beta/openai/\"\n",
    ")\n"
   ]
  },
  {
   "cell_type": "code",
   "execution_count": 6,
   "id": "3a33ebb2",
   "metadata": {},
   "outputs": [
    {
     "name": "stdout",
     "output_type": "stream",
     "text": [
      "API key loaded: True\n"
     ]
    }
   ],
   "source": [
    "from dotenv import load_dotenv\n",
    "import os\n",
    "load_dotenv(override=True)  # force overwrite existing environment variables\n",
    "\n",
    "load_dotenv()  # loads .env variables\n",
    "api_key = os.environ.get(\"OPENAI_API_KEY\")\n",
    "print(\"API key loaded:\", bool(api_key))  # just to check\n"
   ]
  },
  {
   "cell_type": "code",
   "execution_count": 55,
   "id": "a14eb870",
   "metadata": {},
   "outputs": [
    {
     "name": "stdout",
     "output_type": "stream",
     "text": [
      "d:\\rudys-rangers-techjam25\n"
     ]
    }
   ],
   "source": [
    "import os\n",
    "print(os.getcwd())"
   ]
  },
  {
   "cell_type": "code",
   "execution_count": null,
   "id": "c97fd7e1",
   "metadata": {},
   "outputs": [],
   "source": [
    "system_message = '''\n",
    " <task>\n",
    "    Analyze Google reviews to gauge review quality by detecting problematic content.\n",
    "  </task>\n",
    "  \n",
    "  <detection_criteria>\n",
    "    <spam>Detect reviews that are fake, duplicate, or artificially generated</spam>\n",
    "    <advertisement>Detect reviews that primarily promote other businesses or services</advertisement>\n",
    "    <irrelevant_content>Detect reviews that don't relate to the actual business or location</irrelevant_content>\n",
    "    <non_visitor_rant>Detect rants from users who likely never visited the location</non_visitor_rant>\n",
    "    <toxicity>Detect reviews containing rudeness, racism, hate speech, harassment, or other toxic behavior</toxicity>\n",
    "  </detection_criteria>\n",
    "  \n",
    "  <labeling_instructions>\n",
    "    Label each detection category with 1 if the issue is present, 0 if not present.\n",
    "  </labeling_instructions>\n",
    "  \n",
    "  <input_format>\n",
    "    Review text will be provided for analysis.\n",
    "  </input_format>\n",
    "  \n",
    "  <response_format>\n",
    "    {\n",
    "      \"spam\": 0 or 1,\n",
    "      \"advertisement\": 0 or 1, \n",
    "      \"irrelevant_content\": 0 or 1,\n",
    "      \"non_visitor_rant\": 0 or 1,\n",
    "      \"toxicity\": 0 or 1\n",
    "      \"reasoning\": \n",
    "    }\n",
    "  </response_format>\n",
    "  \n",
    "  <example>\n",
    "    Input: \"This place is terrible! I heard from my friend it's dirty and overpriced. Never going there!\"\n",
    "    Output: {\"spam\": 0, \"advertisement\": 0, \"irrelevant_content\": 0, \"non_visitor_rant\": 1, \"toxicity\": 0}\n",
    "  </example>\n",
    "  <example>\n",
    "    Input: \"Had dinner here last night with my family. The food was okay I guess, service was a bit slow. But speaking of great service, I have to mention that \n",
    "    I recently had my car detailed by Elite Auto Spa on Main Street and it was absolutely incredible! They made my 10-year-old Honda look brand new. \n",
    "    The owner Dave is super friendly and they use eco-friendly products. Only $89 for a full detail - such a steal! If anyone needs their car cleaned, \n",
    "    definitely check out Elite Auto Spa. They're open 7 days a week and take walk-ins. Tell them Mike sent you for 10% off your first visit!\n",
    "    Anyway, the restaurant was fine. Might come back sometime.\"\n",
    "    Output:  {\"spam\": 0, \"advertisement\": 1, \"irrelevant_content\": 1, \"non_visitor_rant\": 0, \"toxicity\": 0}\n",
    "  </example>\n",
    "  <example>\n",
    "    Input: \"This place is absolutely DISGUSTING and the staff are complete idiots who don't know anything about customer service!!! The manager Karen is a total b**** who needs to be fired immediately. Food gave me food poisoning and I'm going to sue them for everything they're worth.\n",
    "    EVERYONE NEEDS TO BOYCOTT THIS TERRIBLE RESTAURANT. They are probably money laundering and breaking health codes. I saw mexican ROACHES in the kitchen (I didn't but whatever).\n",
    "    By the way, if you want REAL Italian food, go to Tony's Pizza Palace downtown - they have the BEST pizza in the city and Maria the owner is amazing! Use code FOODIE20 for 20% off! They're having a grand opening special this week!\n",
    "    Also check out my food blog at totally-real-food-reviews.net where I expose restaurants like this one. Follow me on Instagram @foodcritic_real for more honest reviews!\n",
    "    DO NOT EAT HERE - YOU HAVE BEEN WARNED!!!\"\n",
    "    Output: {\"spam\": 0, \"advertisement\": 0, \"irrelevant_content\": 1, \"non_visitor_rant\": 0, \"toxicity\": 1}\n",
    "  </example>  \n",
    "'''"
   ]
  },
  {
   "cell_type": "code",
   "execution_count": null,
   "id": "b3285ada",
   "metadata": {},
   "outputs": [],
   "source": [
    "from pydantic import BaseModel\n",
    "from typing import List\n",
    "import json\n",
    "import os\n",
    "import pandas as pd\n",
    "from openai import OpenAI\n",
    "\n",
    "\n",
    "class MessageInfo(BaseModel):\n",
    "    spam: str\n",
    "    advertisement: str\n",
    "    irrelevant_content: str\n",
    "    non_visitor_rant: str\n",
    "    toxicity:str \n",
    "\n",
    "class Messages(BaseModel):\n",
    "    messages: List[MessageInfo]\n",
    "\n",
    "class BatchProcess():\n",
    "    def __init__(self, df:pd.DataFrame, start_index: int, batch_start_number:int, system_message:str, client:OpenAI):\n",
    "        \"\"\" \n",
    "        prepares raw jd from df, sends it to llms and writes outputs to json\n",
    "        \n",
    "        \"\"\"\n",
    "        self.df = df\n",
    "        self.start_index = start_index #index of the dataframe to START\n",
    "        self.batch_start_number = batch_start_number #batch number to START\n",
    "        self.system_message = system_message\n",
    "        self.client = client\n",
    "\n",
    "    def process(self, no_of_batches:int, batch_size:int) -> None:\n",
    "        #prepare the messages in the batch\n",
    "        for i in range(no_of_batches):\n",
    "            print(f\"Processing batch {i}...\")\n",
    "            \n",
    "            messages, row_ids, checkpoint = self.prepare_llm_inputs(self.df, self.start_index, batch_size) #process before llm\n",
    "            llm_structured_output = self.get_structured_output_from_llm(self.system_message, messages) #pass to llm, get responses\n",
    "\n",
    "            print(\"Processing row_ids...\", row_ids)\n",
    "\n",
    "            if len(llm_structured_output.messages) != len(row_ids):\n",
    "                print(messages)\n",
    "                print(llm_structured_output.messages)\n",
    "                raise ValueError(f\"Error: Expected batch size of {batch_size}, but got jobids: {len(row_ids)} and llmoutputs: {len(llm_structured_output.messages)}.\")\n",
    "\n",
    "            batch_jds = self.append_jb_ids(row_ids, llm_structured_output) #process output, append jd ids to the response\n",
    "\n",
    "            self.write_to_file(batch_jds, checkpoint, self.batch_start_number) #write to json for the batch\n",
    "            \n",
    "            self.start_index = checkpoint\n",
    "\n",
    "            self.batch_start_number += 1\n",
    "        \n",
    "\n",
    "\n",
    "       \n",
    "    # need to iterate through the rows in the df for that batch from the start checkpoint, \n",
    "    def prepare_llm_inputs(self, df: pd.DataFrame, checkpoint:int, batch_size:int) -> tuple[str, List[int], int]:\n",
    "        \"\"\" \n",
    "        This function iterates through the rows in the dataframe in that batch and prepares multiple raw JDs into one message/string for the llm\n",
    "        returns the updated checkpoint, input prompt which is a string and the list of their job ids for addition later\n",
    "        \"\"\"\n",
    "        messages =\"\"\n",
    "        job_ids = []\n",
    "        counter = 1\n",
    "        for i in range(checkpoint, checkpoint+batch_size):\n",
    "            job_id = int(df.iloc[i]['id'])\n",
    "            raw_jd = df.iloc[i]['user_message'].strip()\n",
    "            job_ids.append(job_id)\n",
    "            messages += f\"<Job {counter}>\\n{raw_jd}\\n</Job {counter}>\\n\\n\"\n",
    "            counter+=1\n",
    "        # Check if the number of job ids does not match the batch size\n",
    "        if len(job_ids) != batch_size:\n",
    "            \n",
    "            raise ValueError(f\"Error: Expected batch size of {batch_size}, but got {len(job_ids)}.\")\n",
    "\n",
    "        return (messages, job_ids, checkpoint + batch_size)\n",
    "    \n",
    "\n",
    "            \n",
    "    def get_structured_output_from_llm(self, system_message: str, user_message:str) -> Messages:\n",
    "        \"\"\" \n",
    "        sends the messages to gemini, returns a Messages object\n",
    "        \"\"\"\n",
    "        response = self.client.beta.chat.completions.parse(\n",
    "            model=\"gemini-2.0-flash-lite\",\n",
    "            messages=[\n",
    "                {\"role\": \"system\", \"content\": system_message},\n",
    "                {\n",
    "                    \"role\": \"user\",\n",
    "                    \"content\": user_message\n",
    "                }\n",
    "            ],\n",
    "            response_format=Messages,\n",
    "        )\n",
    "        return response.choices[0].message.parsed\n",
    "    \n",
    "    # we need to append the job ids to each message, saves output to json file\n",
    "    def append_jb_ids(self, job_ids:List, messages_list: Messages) -> List:\n",
    "        batch_jds = []\n",
    "        for idx, message in enumerate(messages_list.messages):\n",
    "            temp = message.model_dump()\n",
    "            #print(temp, idx)\n",
    "            temp['job_id'] = job_ids[idx]\n",
    "            batch_jds.append(temp)\n",
    "\n",
    "        return batch_jds\n",
    "    \n",
    "    def write_to_file(self, batch_jds:List, row_checkpoint, batch_no) -> None:\n",
    "            row_checkpoint -= 1\n",
    "            dir_name = \"extracted_jds\"\n",
    "            os.makedirs(dir_name, exist_ok=True)\n",
    "\n",
    "            filename = f\"{dir_name}/batch_{batch_no}_row_{row_checkpoint}_extracted_jd.json\"\n",
    "\n",
    "            with open(filename, \"w\") as f:\n",
    "                json.dump(batch_jds, f, indent=4) \n"
   ]
  },
  {
   "cell_type": "code",
   "execution_count": 42,
   "id": "39a9a666",
   "metadata": {},
   "outputs": [],
   "source": [
    "fake = [{\"id\":0, \"user_message\":\"my friend told me this place sucks!!!\"}, {\"id\":1, \"user_message\":\"Escape the city—relax, explore, and unwind at Bear Creek Cabins & RV Park! 50% off for new users!\"}]\n",
    "fake_df = pd.DataFrame(fake)"
   ]
  },
  {
   "cell_type": "code",
   "execution_count": 43,
   "id": "5f647e16",
   "metadata": {},
   "outputs": [
    {
     "data": {
      "text/html": [
       "<div>\n",
       "<style scoped>\n",
       "    .dataframe tbody tr th:only-of-type {\n",
       "        vertical-align: middle;\n",
       "    }\n",
       "\n",
       "    .dataframe tbody tr th {\n",
       "        vertical-align: top;\n",
       "    }\n",
       "\n",
       "    .dataframe thead th {\n",
       "        text-align: right;\n",
       "    }\n",
       "</style>\n",
       "<table border=\"1\" class=\"dataframe\">\n",
       "  <thead>\n",
       "    <tr style=\"text-align: right;\">\n",
       "      <th></th>\n",
       "      <th>id</th>\n",
       "      <th>user_message</th>\n",
       "    </tr>\n",
       "  </thead>\n",
       "  <tbody>\n",
       "    <tr>\n",
       "      <th>0</th>\n",
       "      <td>0</td>\n",
       "      <td>my friend told me this place sucks!!!</td>\n",
       "    </tr>\n",
       "    <tr>\n",
       "      <th>1</th>\n",
       "      <td>1</td>\n",
       "      <td>Escape the city—relax, explore, and unwind at ...</td>\n",
       "    </tr>\n",
       "  </tbody>\n",
       "</table>\n",
       "</div>"
      ],
      "text/plain": [
       "   id                                       user_message\n",
       "0   0              my friend told me this place sucks!!!\n",
       "1   1  Escape the city—relax, explore, and unwind at ..."
      ]
     },
     "execution_count": 43,
     "metadata": {},
     "output_type": "execute_result"
    }
   ],
   "source": [
    "fake_df"
   ]
  },
  {
   "cell_type": "code",
   "execution_count": 49,
   "id": "83071fea",
   "metadata": {},
   "outputs": [],
   "source": [
    "batch = BatchProcess(fake_df, 0, 0, system_message, client)"
   ]
  },
  {
   "cell_type": "code",
   "execution_count": 50,
   "id": "444b14d1",
   "metadata": {},
   "outputs": [],
   "source": [
    "messages, job_ids, checkpoint = batch.prepare_llm_inputs(fake_df, 0, 2)"
   ]
  },
  {
   "cell_type": "code",
   "execution_count": 51,
   "id": "f4928dd6",
   "metadata": {},
   "outputs": [],
   "source": [
    "response = batch.get_structured_output_from_llm(system_message, messages)"
   ]
  },
  {
   "cell_type": "code",
   "execution_count": 52,
   "id": "a62382ff",
   "metadata": {},
   "outputs": [
    {
     "data": {
      "text/plain": [
       "Messages(messages=[MessageInfo(spam='0', advertisement='0', irrelevant_content='0', non_visitor_rant='1', toxicity='0', reasoning=\"The review is a rant from someone who likely didn't visit the location, repeating a claim from a friend.\"), MessageInfo(spam='0', advertisement='1', irrelevant_content='0', non_visitor_rant='0', toxicity='0', reasoning='The review promotes Bear Creek Cabins & RV Park, including a discount offer.')])"
      ]
     },
     "execution_count": 52,
     "metadata": {},
     "output_type": "execute_result"
    }
   ],
   "source": [
    "response"
   ]
  },
  {
   "cell_type": "code",
   "execution_count": 31,
   "id": "880846d8",
   "metadata": {},
   "outputs": [
    {
     "name": "stdout",
     "output_type": "stream",
     "text": [
      "Business Name: Bear Creek Cabins & RV Park\n",
      "Category: RV park, Cabin rental agency, Campground\n",
      "Description: None\n",
      "Review: Treated terribly by owner absolutely outrageous pricing wouldn't even allow me to shower after paying almost 40.00 for just parking in a lot for 5 hours\n",
      "Response: None\n"
     ]
    }
   ],
   "source": [
    "print(df.head(10).iloc[9]['user_message'])"
   ]
  },
  {
   "cell_type": "code",
   "execution_count": null,
   "id": "d6cf5e40",
   "metadata": {},
   "outputs": [],
   "source": []
  }
 ],
 "metadata": {
  "kernelspec": {
   "display_name": "venv",
   "language": "python",
   "name": "python3"
  },
  "language_info": {
   "codemirror_mode": {
    "name": "ipython",
    "version": 3
   },
   "file_extension": ".py",
   "mimetype": "text/x-python",
   "name": "python",
   "nbconvert_exporter": "python",
   "pygments_lexer": "ipython3",
   "version": "3.12.10"
  }
 },
 "nbformat": 4,
 "nbformat_minor": 5
}
